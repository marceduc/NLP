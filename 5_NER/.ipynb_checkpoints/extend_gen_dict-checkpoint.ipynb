{
 "cells": [
  {
   "cell_type": "code",
   "execution_count": 1,
   "metadata": {},
   "outputs": [],
   "source": [
    "import pandas as pd\n",
    "import numpy as np"
   ]
  },
  {
   "cell_type": "code",
   "execution_count": 2,
   "metadata": {},
   "outputs": [],
   "source": [
    "def get_F1(df):\n",
    "    #df = dataframe with label and preds = prediction column\n",
    "    #returns F1, precision, recall\n",
    "    TN = (df.loc[df.label == 'O'].preds.values == 'O').sum()\n",
    "    FP = (df.loc[df.label == 'O'].preds.values == 'B-protein').sum()\n",
    "\n",
    "    TP = (df.loc[df.label == 'B-protein'].preds.values == 'B-protein').sum()\n",
    "    FN = (df.loc[df.label == 'B-protein'].preds.values == 'O').sum()\n",
    "\n",
    "\n",
    "    precision = TP / (TP + FP)\n",
    "    recall = TP / (TP + FN)\n",
    "\n",
    "    F1 = 2 * precision * recall / (precision + recall)\n",
    "    return(F1,precision,recall)\n",
    "\n",
    "    "
   ]
  },
  {
   "cell_type": "code",
   "execution_count": 3,
   "metadata": {},
   "outputs": [],
   "source": [
    "# run for validation\n",
    "df = pd.read_csv('uebung5_training.iob', sep = '\\t', names= ['token', 'label'])\n",
    "df['token'] = df.token.str.lower()\n",
    "val_idx = int(len(df) * 0.3)\n",
    "train = df[:-val_idx]\n",
    "val = df[-val_idx:]"
   ]
  },
  {
   "cell_type": "code",
   "execution_count": 6,
   "metadata": {},
   "outputs": [
    {
     "data": {
      "text/html": [
       "<div>\n",
       "<style scoped>\n",
       "    .dataframe tbody tr th:only-of-type {\n",
       "        vertical-align: middle;\n",
       "    }\n",
       "\n",
       "    .dataframe tbody tr th {\n",
       "        vertical-align: top;\n",
       "    }\n",
       "\n",
       "    .dataframe thead th {\n",
       "        text-align: right;\n",
       "    }\n",
       "</style>\n",
       "<table border=\"1\" class=\"dataframe\">\n",
       "  <thead>\n",
       "    <tr style=\"text-align: right;\">\n",
       "      <th></th>\n",
       "      <th>token</th>\n",
       "      <th>label</th>\n",
       "    </tr>\n",
       "  </thead>\n",
       "  <tbody>\n",
       "    <tr>\n",
       "      <th>0</th>\n",
       "      <td>Lower</td>\n",
       "      <td>O</td>\n",
       "    </tr>\n",
       "    <tr>\n",
       "      <th>1</th>\n",
       "      <td>extremity</td>\n",
       "      <td>O</td>\n",
       "    </tr>\n",
       "    <tr>\n",
       "      <th>2</th>\n",
       "      <td>weight</td>\n",
       "      <td>O</td>\n",
       "    </tr>\n",
       "    <tr>\n",
       "      <th>3</th>\n",
       "      <td>bearing</td>\n",
       "      <td>O</td>\n",
       "    </tr>\n",
       "    <tr>\n",
       "      <th>4</th>\n",
       "      <td>under</td>\n",
       "      <td>O</td>\n",
       "    </tr>\n",
       "    <tr>\n",
       "      <th>5</th>\n",
       "      <td>various</td>\n",
       "      <td>O</td>\n",
       "    </tr>\n",
       "    <tr>\n",
       "      <th>6</th>\n",
       "      <td>standing</td>\n",
       "      <td>O</td>\n",
       "    </tr>\n",
       "    <tr>\n",
       "      <th>7</th>\n",
       "      <td>conditions</td>\n",
       "      <td>O</td>\n",
       "    </tr>\n",
       "    <tr>\n",
       "      <th>8</th>\n",
       "      <td>in</td>\n",
       "      <td>O</td>\n",
       "    </tr>\n",
       "    <tr>\n",
       "      <th>9</th>\n",
       "      <td>independently</td>\n",
       "      <td>O</td>\n",
       "    </tr>\n",
       "    <tr>\n",
       "      <th>10</th>\n",
       "      <td>ambulatory</td>\n",
       "      <td>O</td>\n",
       "    </tr>\n",
       "    <tr>\n",
       "      <th>11</th>\n",
       "      <td>patients</td>\n",
       "      <td>O</td>\n",
       "    </tr>\n",
       "    <tr>\n",
       "      <th>12</th>\n",
       "      <td>with</td>\n",
       "      <td>O</td>\n",
       "    </tr>\n",
       "    <tr>\n",
       "      <th>13</th>\n",
       "      <td>hemiparesis</td>\n",
       "      <td>O</td>\n",
       "    </tr>\n",
       "    <tr>\n",
       "      <th>14</th>\n",
       "      <td>.</td>\n",
       "      <td>O</td>\n",
       "    </tr>\n",
       "    <tr>\n",
       "      <th>15</th>\n",
       "      <td>NaN</td>\n",
       "      <td>NaN</td>\n",
       "    </tr>\n",
       "    <tr>\n",
       "      <th>16</th>\n",
       "      <td>This</td>\n",
       "      <td>O</td>\n",
       "    </tr>\n",
       "    <tr>\n",
       "      <th>17</th>\n",
       "      <td>approach</td>\n",
       "      <td>O</td>\n",
       "    </tr>\n",
       "    <tr>\n",
       "      <th>18</th>\n",
       "      <td>enables</td>\n",
       "      <td>O</td>\n",
       "    </tr>\n",
       "    <tr>\n",
       "      <th>19</th>\n",
       "      <td>the</td>\n",
       "      <td>O</td>\n",
       "    </tr>\n",
       "  </tbody>\n",
       "</table>\n",
       "</div>"
      ],
      "text/plain": [
       "            token label\n",
       "0           Lower     O\n",
       "1       extremity     O\n",
       "2          weight     O\n",
       "3         bearing     O\n",
       "4           under     O\n",
       "5         various     O\n",
       "6        standing     O\n",
       "7      conditions     O\n",
       "8              in     O\n",
       "9   independently     O\n",
       "10     ambulatory     O\n",
       "11       patients     O\n",
       "12           with     O\n",
       "13    hemiparesis     O\n",
       "14              .     O\n",
       "15            NaN   NaN\n",
       "16           This     O\n",
       "17       approach     O\n",
       "18        enables     O\n",
       "19            the     O"
      ]
     },
     "execution_count": 6,
     "metadata": {},
     "output_type": "execute_result"
    }
   ],
   "source": [
    "df = pd.read_csv('uebung5_training.iob', sep = '\\t', names= ['token', 'label'],skip_blank_lines=False)\n",
    "df.head(20)"
   ]
  },
  {
   "cell_type": "code",
   "execution_count": 2,
   "metadata": {},
   "outputs": [],
   "source": [
    "# run to build final dict\n",
    "df = pd.read_csv('uebung5_training.iob', sep = '\\t', names= ['token', 'label'])\n",
    "df['token'] = df.token.str.lower()\n",
    "train = df\n",
    "val = df\n"
   ]
  },
  {
   "cell_type": "code",
   "execution_count": 3,
   "metadata": {},
   "outputs": [],
   "source": [
    "#load gene dict, and stopwords\n",
    "stopwords = pd.read_csv('english_stop_words.txt', sep = '\\t', names= ['stopword'])\n",
    "genenames = pd.read_csv('human-genenames.txt', sep = '\\t', names= ['GenName'])\n",
    "\n",
    "#create set of lower case entries\n",
    "genes = set(genenames.GenName.str.lower().unique())\n",
    "stopwords = set(stopwords.stopword.str.lower().unique())\n"
   ]
  },
  {
   "cell_type": "code",
   "execution_count": 4,
   "metadata": {},
   "outputs": [],
   "source": [
    "#add training set labels to dict\n",
    "genes = genes.union(set(train.loc[train.label == 'B-protein'].token))"
   ]
  },
  {
   "cell_type": "code",
   "execution_count": 5,
   "metadata": {},
   "outputs": [],
   "source": [
    "preds = []\n",
    "\n",
    "for i in range(len(val)):\n",
    "    if val.token.iloc[i] in stopwords:\n",
    "        preds.append('O')\n",
    "    elif val.token.iloc[i] in genes:\n",
    "        preds.append('B-protein')\n",
    "    else:\n",
    "        preds.append('O')\n",
    "val['preds'] = preds        "
   ]
  },
  {
   "cell_type": "code",
   "execution_count": 8,
   "metadata": {},
   "outputs": [
    {
     "data": {
      "text/plain": [
       "(0.7062795408507765, 0.5476439790575917, 0.9942965779467681)"
      ]
     },
     "execution_count": 8,
     "metadata": {},
     "output_type": "execute_result"
    }
   ],
   "source": [
    "F1,precision,recall, = get_F1(val)\n",
    "F1,precision,recall"
   ]
  },
  {
   "cell_type": "code",
   "execution_count": 10,
   "metadata": {},
   "outputs": [],
   "source": [
    "# add word count column\n",
    "val['count'] = val.groupby('token')['token'].transform('count')\n",
    "# add column with true prediction counts\n",
    "val['result'] = val.label == val.preds\n",
    "val.result = val.result.astype('int')\n",
    "val['true_count'] = val.groupby('token')['result'].transform('sum')\n",
    "# add column with false prediction counts\n",
    "val['false_count'] = val['count'] - val['true_count']\n"
   ]
  },
  {
   "cell_type": "code",
   "execution_count": 11,
   "metadata": {},
   "outputs": [],
   "source": [
    "# remove tokens whith more FP than TP from dict\n",
    "val_FP = val.loc[val.label == 'O']\n",
    "val_FP = val_FP.loc[val.preds == 'B-protein']\n",
    "\n",
    "FP_tokens = set(val_FP.token.loc[val_FP.true_count < val_FP.false_count])\n",
    "\n",
    "genes = genes - FP_tokens"
   ]
  },
  {
   "cell_type": "code",
   "execution_count": 12,
   "metadata": {},
   "outputs": [],
   "source": [
    "preds = []\n",
    "\n",
    "for i in range(len(val)):\n",
    "    if val.token.iloc[i] in stopwords:\n",
    "        preds.append('O')\n",
    "    elif val.token.iloc[i] in genes:\n",
    "        preds.append('B-protein')\n",
    "    else:\n",
    "        preds.append('O')\n",
    "val['preds'] = preds      "
   ]
  },
  {
   "cell_type": "code",
   "execution_count": 13,
   "metadata": {},
   "outputs": [
    {
     "data": {
      "text/plain": [
       "(0.9429373246024321, 0.9281767955801105, 0.9581749049429658)"
      ]
     },
     "execution_count": 13,
     "metadata": {},
     "output_type": "execute_result"
    }
   ],
   "source": [
    "F1,precision,recall, = get_F1(val)\n",
    "F1,precision,recall"
   ]
  },
  {
   "cell_type": "code",
   "execution_count": 23,
   "metadata": {},
   "outputs": [],
   "source": [
    "genenames_extended = pd.DataFrame(list(genes))"
   ]
  },
  {
   "cell_type": "code",
   "execution_count": 25,
   "metadata": {},
   "outputs": [],
   "source": [
    "genenames_extended.to_csv('genenames_extended.txt' ,header=None, index=None)"
   ]
  },
  {
   "cell_type": "markdown",
   "metadata": {},
   "source": [
    "## Train with full dataset"
   ]
  },
  {
   "cell_type": "code",
   "execution_count": 12,
   "metadata": {},
   "outputs": [],
   "source": [
    "# Add tokens from full training set to genes\n",
    "INPUT_FILE = 'uebung5_test_sample_blind.iob'\n",
    "INPUT_FILE = 'uebung5_training.iob'\n",
    "OUTPUT_FILE = 'predictions.iob'\n",
    "STOP_WORDS_FILE = 'english_stop_words.txt'\n",
    "DICT_FILE = 'genenames_extended.txt'\n",
    "\n"
   ]
  },
  {
   "cell_type": "code",
   "execution_count": 14,
   "metadata": {},
   "outputs": [],
   "source": [
    "#load gene dict, and stopwords\n",
    "stopwords = pd.read_csv(STOP_WORDS_FILE, sep = '\\t', names= ['stopword'])\n",
    "genenames = pd.read_csv(DICT_FILE, sep = '\\t', names= ['GenName'])\n",
    "\n",
    "#create set of lower case entries\n",
    "genes = set(genenames.GenName.str.lower().unique())\n",
    "stopwords = set(stopwords.stopword.str.lower().unique())"
   ]
  },
  {
   "cell_type": "code",
   "execution_count": 15,
   "metadata": {},
   "outputs": [],
   "source": [
    "test = pd.read_csv(INPUT_FILE, sep = '\\t',header=None, names= ['token', 'label'] ,skip_blank_lines=False)\n",
    "test['lower'] = test.token.str.lower()"
   ]
  },
  {
   "cell_type": "code",
   "execution_count": 41,
   "metadata": {},
   "outputs": [],
   "source": [
    "preds = []\n",
    "\n",
    "for i in range(len(test)):\n",
    "    if test.lower[i] != test.lower[i]:\n",
    "        preds.append(np.nan)\n",
    "    elif test.lower.iloc[i] in stopwords:\n",
    "        preds.append('O')\n",
    "    elif test.lower.iloc[i] in genes:\n",
    "        preds.append('B-protein')\n",
    "    else:\n",
    "        preds.append('O')"
   ]
  },
  {
   "cell_type": "code",
   "execution_count": 42,
   "metadata": {},
   "outputs": [],
   "source": [
    "pred_df = pd.DataFrame({'token':test.token.values, 'preds':preds})\n",
    "pred_df = pred_df.fillna('')"
   ]
  },
  {
   "cell_type": "code",
   "execution_count": 49,
   "metadata": {},
   "outputs": [],
   "source": [
    "pred_df.to_csv(OUTPUT_FILE, sep = '\\t', header = None, index=None)"
   ]
  },
  {
   "cell_type": "markdown",
   "metadata": {},
   "source": [
    "## .py Code"
   ]
  },
  {
   "cell_type": "code",
   "execution_count": null,
   "metadata": {},
   "outputs": [],
   "source": [
    "import numpy as np\n",
    "import pandas as pd\n",
    "\n",
    "def main():\n",
    "    INPUT_FILE = sys.argv[1]\n",
    "    OUTPUT_FILE = sys.argv[2]\n",
    "    STOP_WORDS_FILE = 'english_stop_words.txt'\n",
    "    DICT_FILE = 'genenames_extended.txt'\n",
    "    \n",
    "    #load gene dict, and stopwords\n",
    "    stopwords = pd.read_csv(STOP_WORDS_FILE, sep = '\\t', names= ['stopword'])\n",
    "    genenames = pd.read_csv(DICT_FILE, sep = '\\t', names= ['GenName'])\n",
    "\n",
    "    #create set of lower case entries\n",
    "    genes = set(genenames.GenName.str.lower().unique())\n",
    "    stopwords = set(stopwords.stopword.str.lower().unique())\n",
    "    \n",
    "    # load classification data\n",
    "    test = pd.read_csv(INPUT_FILE, sep = '\\t',header=None, names= ['token', 'label'], skip_blank_lines=False)\n",
    "    test['lower'] = test.token.str.lower()\n",
    "    \n",
    "    # make predictions\n",
    "    preds = []\n",
    "\n",
    "    for i in range(len(test)):\n",
    "        if test.lower[i] != test.lower[i]:\n",
    "            preds.append(np.nan)\n",
    "        elif test.lower.iloc[i] in stopwords:\n",
    "            preds.append('O')\n",
    "        elif test.lower.iloc[i] in genes:\n",
    "            preds.append('B-protein')\n",
    "        else:\n",
    "            preds.append('O')\n",
    "    \n",
    "    pred_df = pd.DataFrame({'token':test.token.values, 'preds':preds})\n",
    "    pred_df = pred_df.fillna('')\n",
    "    pred_df.to_csv(OUTPUT_FILE, sep = '\\t', header = None, index=None)\n",
    "    \n",
    "main()\n",
    "    "
   ]
  }
 ],
 "metadata": {
  "kernelspec": {
   "display_name": "Python 3",
   "language": "python",
   "name": "python3"
  },
  "language_info": {
   "codemirror_mode": {
    "name": "ipython",
    "version": 3
   },
   "file_extension": ".py",
   "mimetype": "text/x-python",
   "name": "python",
   "nbconvert_exporter": "python",
   "pygments_lexer": "ipython3",
   "version": "3.6.5"
  }
 },
 "nbformat": 4,
 "nbformat_minor": 2
}
