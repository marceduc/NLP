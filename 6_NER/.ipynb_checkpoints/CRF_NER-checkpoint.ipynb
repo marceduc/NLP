{
 "cells": [
  {
   "cell_type": "markdown",
   "metadata": {},
   "source": [
    "## Train model"
   ]
  },
  {
   "cell_type": "code",
   "execution_count": 1,
   "metadata": {
    "colab": {},
    "colab_type": "code",
    "id": "M61b2MANhdt_"
   },
   "outputs": [],
   "source": [
    "PATH_TR = 'uebung6.train'\n",
    "PATH_VAL = 'uebung6.val'"
   ]
  },
  {
   "cell_type": "code",
   "execution_count": 2,
   "metadata": {
    "colab": {
     "base_uri": "https://localhost:8080/",
     "height": 34
    },
    "colab_type": "code",
    "id": "XjpU0Z-4ks4W",
    "outputId": "13707498-2c4f-448a-f0b8-e06611521b5e"
   },
   "outputs": [
    {
     "name": "stderr",
     "output_type": "stream",
     "text": [
      "Using TensorFlow backend.\n"
     ]
    }
   ],
   "source": [
    "import numpy as np\n",
    "import pandas as pd\n",
    "import re\n",
    "from keras.utils import to_categorical\n",
    "from keras.preprocessing import sequence\n",
    "from keras.preprocessing.text import Tokenizer"
   ]
  },
  {
   "cell_type": "code",
   "execution_count": 3,
   "metadata": {
    "colab": {},
    "colab_type": "code",
    "id": "kSUsHfU8hb2F"
   },
   "outputs": [],
   "source": [
    "with open(PATH_TR, 'r') as f:\n",
    "    lines = f.readlines()\n",
    "    \n",
    "lines = [line.strip() for line in lines]\n",
    "token = ['<START>' if str.split(line, ' ')[0] == '' else str.split(line, ' ')[0] for line in lines]\n",
    "tag = ['<START>' if str.split(line, ' ')[0] == '' else str.split(line, ' ')[1] for line in lines]\n",
    "label = ['<START>' if str.split(line, ' ')[0] == '' else str.split(line, ' ')[2] for line in lines]"
   ]
  },
  {
   "cell_type": "code",
   "execution_count": 4,
   "metadata": {
    "colab": {},
    "colab_type": "code",
    "id": "WdaQzrNwQ5N1"
   },
   "outputs": [],
   "source": [
    "def to_str_token(token, word = True):\n",
    "  token_seq = \" \".join(token)\n",
    "  \n",
    "  if(word):\n",
    "    token_seq = re.sub('-DOCSTART- <START>', '',token_seq)\n",
    "  \n",
    "  else:\n",
    "    token_seq = re.sub('X <START>', '',token_seq)\n",
    "  \n",
    "  sentence_tok = token_seq.split(\"<START>\")\n",
    "  sentence_tok = [s.strip() for s in sentence_tok]\n",
    "  sentence_tok = [s.split(' ') for s in sentence_tok]\n",
    "  sentence_list =  [list(filter(None, s)) for s in sentence_tok]\n",
    "  sentence_list = list(filter(None, sentence_tok))\n",
    "  \n",
    "  return(sentence_tok)"
   ]
  },
  {
   "cell_type": "code",
   "execution_count": 5,
   "metadata": {
    "colab": {
     "base_uri": "https://localhost:8080/",
     "height": 34
    },
    "colab_type": "code",
    "id": "JrHwjhqFRtx-",
    "outputId": "74c764bc-f2fc-4037-ce5d-7fae2ed26b33"
   },
   "outputs": [
    {
     "data": {
      "text/plain": [
       "(12000, 12000, 12000)"
      ]
     },
     "execution_count": 5,
     "metadata": {},
     "output_type": "execute_result"
    }
   ],
   "source": [
    "sent_tok = to_str_token(token)[:-1]\n",
    "sent_tag = to_str_token(tag, False)[:-1]\n",
    "sent_lab = to_str_token(label, False)[:-1]\n",
    "\n",
    "\n",
    "len(sent_tok), len(sent_tag), len(sent_lab)"
   ]
  },
  {
   "cell_type": "code",
   "execution_count": 6,
   "metadata": {
    "colab": {},
    "colab_type": "code",
    "id": "1NT5in6zLxu8"
   },
   "outputs": [],
   "source": [
    "train_sents = []\n",
    "\n",
    "for i in range(len(sent_tok)):\n",
    "  s = []\n",
    "  for t,p,y in zip(sent_tok[i], sent_tag[i], sent_lab[i]):\n",
    "    s.append((t,p,y))\n",
    "  train_sents.append(s)"
   ]
  },
  {
   "cell_type": "code",
   "execution_count": 7,
   "metadata": {
    "colab": {},
    "colab_type": "code",
    "id": "F2oX1obLPVcA"
   },
   "outputs": [],
   "source": [
    "with open(PATH_VAL, 'r') as f:\n",
    "    lines = f.readlines()\n",
    "    \n",
    "lines = [line.strip() for line in lines]\n",
    "token = ['<START>' if str.split(line, ' ')[0] == '' else str.split(line, ' ')[0] for line in lines]\n",
    "tag = ['<START>' if str.split(line, ' ')[0] == '' else str.split(line, ' ')[1] for line in lines]\n",
    "label = ['<START>' if str.split(line, ' ')[0] == '' else str.split(line, ' ')[2] for line in lines]"
   ]
  },
  {
   "cell_type": "code",
   "execution_count": 8,
   "metadata": {
    "colab": {
     "base_uri": "https://localhost:8080/",
     "height": 34
    },
    "colab_type": "code",
    "id": "NRhDTYIhPqKQ",
    "outputId": "b1c9c281-6335-46cf-a170-5b0497ed8e08"
   },
   "outputs": [
    {
     "data": {
      "text/plain": [
       "(2000, 2000, 2000)"
      ]
     },
     "execution_count": 8,
     "metadata": {},
     "output_type": "execute_result"
    }
   ],
   "source": [
    "sent_tok = to_str_token(token)[:-1]\n",
    "sent_tag = to_str_token(tag, False)[:-1]\n",
    "sent_lab = to_str_token(label, False)[:-1]\n",
    "\n",
    "\n",
    "len(sent_tok), len(sent_tag), len(sent_lab)"
   ]
  },
  {
   "cell_type": "code",
   "execution_count": 9,
   "metadata": {
    "colab": {},
    "colab_type": "code",
    "id": "YaqrSILmPswh"
   },
   "outputs": [],
   "source": [
    "val_sents = []\n",
    "\n",
    "for i in range(len(sent_tok)):\n",
    "  s = []\n",
    "  for t,p,y in zip(sent_tok[i], sent_tag[i], sent_lab[i]):\n",
    "    s.append((t,p,y))\n",
    "  val_sents.append(s)"
   ]
  },
  {
   "cell_type": "code",
   "execution_count": 0,
   "metadata": {
    "colab": {
     "base_uri": "https://localhost:8080/",
     "height": 1326
    },
    "colab_type": "code",
    "id": "9WJ498pKPvlC",
    "outputId": "a9cdd679-321c-41f5-8a66-d1f740fb57b1"
   },
   "outputs": [
    {
     "data": {
      "text/plain": [
       "[[('Paradoxically', 'NNP', 'O'),\n",
       "  (',', ',', 'O'),\n",
       "  ('loop', 'NN', 'O'),\n",
       "  ('3i', 'NN', 'O'),\n",
       "  ('from', 'IN', 'O'),\n",
       "  ('the', 'DT', 'O'),\n",
       "  ('M1Ach-muscarinic', 'JJ', 'B-NP'),\n",
       "  ('receptor', 'NN', 'I-NP'),\n",
       "  ('also', 'RB', 'O'),\n",
       "  ('maximally', 'RB', 'O'),\n",
       "  ('inhibited', 'VBN', 'O'),\n",
       "  ('GnRH', 'NNP', 'B-NP'),\n",
       "  ('agonist-stimulated', 'JJ', 'O'),\n",
       "  ('cAMP', 'JJ', 'O'),\n",
       "  ('accumulation', 'NN', 'O'),\n",
       "  ('and', 'CC', 'O'),\n",
       "  ('PRL', 'NNP', 'B-NP'),\n",
       "  ('release', 'NN', 'O'),\n",
       "  ('by', 'IN', 'O'),\n",
       "  ('40', 'CD', 'O'),\n",
       "  ('%', 'NN', 'O'),\n",
       "  ('(', '-LRB-', 'O'),\n",
       "  ('both', 'DT', 'O'),\n",
       "  ('effects', 'NNS', 'O'),\n",
       "  ('mediated', 'VBN', 'O'),\n",
       "  ('through', 'IN', 'O'),\n",
       "  ('activation', 'NN', 'O'),\n",
       "  ('of', 'IN', 'O'),\n",
       "  ('the', 'DT', 'O'),\n",
       "  ('Gs', 'JJ', 'B-NP'),\n",
       "  ('protein', 'NN', 'I-NP'),\n",
       "  (')', '-RRB-', 'O'),\n",
       "  ('.', '.', 'O')],\n",
       " [('Oligomers', 'NNP', 'O'),\n",
       "  ('corresponding', 'JJ', 'O'),\n",
       "  ('to', 'TO', 'O'),\n",
       "  ('the', 'DT', 'O'),\n",
       "  ('region', 'NN', 'O'),\n",
       "  ('of', 'IN', 'O'),\n",
       "  ('the', 'DT', 'O'),\n",
       "  ('mlc-1/3', 'JJ', 'B-NP'),\n",
       "  ('enhancer', 'NN', 'I-NP'),\n",
       "  (',', ',', 'O'),\n",
       "  ('which', 'WDT', 'O'),\n",
       "  ('encompasses', 'VBZ', 'O'),\n",
       "  ('this', 'DT', 'O'),\n",
       "  ('conserved', 'JJ', 'O'),\n",
       "  ('sequence', 'NN', 'O'),\n",
       "  (',', ',', 'O'),\n",
       "  ('bound', 'VBN', 'O'),\n",
       "  ('MEF-2', 'NN', 'B-NP'),\n",
       "  ('and', 'CC', 'O'),\n",
       "  ('competed', 'VBN', 'O'),\n",
       "  ('for', 'IN', 'O'),\n",
       "  ('its', 'PRP$', 'O'),\n",
       "  ('binding', 'NN', 'O'),\n",
       "  ('to', 'TO', 'O'),\n",
       "  ('the', 'DT', 'O'),\n",
       "  ('mck', 'NN', 'B-NP'),\n",
       "  ('enhancer', 'NN', 'O'),\n",
       "  ('.', '.', 'O')],\n",
       " [('Overall', 'JJ', 'O'),\n",
       "  ('graft', 'NN', 'O'),\n",
       "  ('and', 'CC', 'O'),\n",
       "  ('patient', 'NN', 'O'),\n",
       "  ('survival', 'NN', 'O'),\n",
       "  ('after', 'IN', 'O'),\n",
       "  ('HAT', 'NNP', 'O'),\n",
       "  ('were', 'VBD', 'O'),\n",
       "  ('33.3', 'CD', 'O'),\n",
       "  ('%', 'NN', 'O'),\n",
       "  ('and', 'CC', 'O'),\n",
       "  ('75', 'CD', 'O'),\n",
       "  ('%', 'NN', 'O'),\n",
       "  (',', ',', 'O'),\n",
       "  ('respectively', 'RB', 'O'),\n",
       "  ('.', '.', 'O')]]"
      ]
     },
     "execution_count": 33,
     "metadata": {
      "tags": []
     },
     "output_type": "execute_result"
    }
   ],
   "source": [
    "val_sents[:3]"
   ]
  },
  {
   "cell_type": "code",
   "execution_count": 0,
   "metadata": {
    "colab": {},
    "colab_type": "code",
    "id": "pOu1XE8dOOs3"
   },
   "outputs": [],
   "source": [
    "def word2features(sent, i):\n",
    "    word = sent[i][0]\n",
    "    postag = sent[i][1]\n",
    "\n",
    "    features = {\n",
    "        'bias': 1.0,\n",
    "        'word.lower()': word.lower(),\n",
    "        'word[-3:]': word[-3:],\n",
    "        'word[-2:]': word[-2:],\n",
    "        'word.isupper()': word.isupper(),\n",
    "        'word.istitle()': word.istitle(),\n",
    "        'word.isdigit()': word.isdigit(),\n",
    "        'postag': postag,\n",
    "        'postag[:2]': postag[:2],\n",
    "    }\n",
    "    if i > 0:\n",
    "        word1 = sent[i-1][0]\n",
    "        postag1 = sent[i-1][1]\n",
    "        features.update({\n",
    "            '-1:word.lower()': word1.lower(),\n",
    "            '-1:word.istitle()': word1.istitle(),\n",
    "            '-1:word.isupper()': word1.isupper(),\n",
    "            '-1:postag': postag1,\n",
    "            '-1:postag[:2]': postag1[:2],\n",
    "        })\n",
    "    else:\n",
    "        features['BOS'] = True\n",
    "\n",
    "    if i < len(sent)-1:\n",
    "        word1 = sent[i+1][0]\n",
    "        postag1 = sent[i+1][1]\n",
    "        features.update({\n",
    "            '+1:word.lower()': word1.lower(),\n",
    "            '+1:word.istitle()': word1.istitle(),\n",
    "            '+1:word.isupper()': word1.isupper(),\n",
    "            '+1:postag': postag1,\n",
    "            '+1:postag[:2]': postag1[:2],\n",
    "        })\n",
    "    else:\n",
    "        features['EOS'] = True\n",
    "\n",
    "    return features\n",
    "\n",
    "\n",
    "def sent2features(sent):\n",
    "    return [word2features(sent, i) for i in range(len(sent))]\n",
    "\n",
    "def sent2labels(sent):\n",
    "    return [label for token, postag, label in sent]\n",
    "\n",
    "def sent2tokens(sent):\n",
    "    return [token for token, postag, label in sent]"
   ]
  },
  {
   "cell_type": "code",
   "execution_count": 0,
   "metadata": {
    "colab": {
     "base_uri": "https://localhost:8080/",
     "height": 51
    },
    "colab_type": "code",
    "id": "Ym-ZXdktOr18",
    "outputId": "6c41550b-5775-4972-a6f0-c6e411d6b786"
   },
   "outputs": [
    {
     "name": "stdout",
     "output_type": "stream",
     "text": [
      "CPU times: user 1.21 s, sys: 78.7 ms, total: 1.29 s\n",
      "Wall time: 1.29 s\n"
     ]
    }
   ],
   "source": [
    "%%time\n",
    "X_train = [sent2features(s) for s in train_sents]\n",
    "y_train = [sent2labels(s) for s in train_sents]\n",
    "\n",
    "X_val = [sent2features(s) for s in val_sents]\n",
    "y_val = [sent2labels(s) for s in val_sents]"
   ]
  },
  {
   "cell_type": "code",
   "execution_count": 0,
   "metadata": {
    "colab": {
     "base_uri": "https://localhost:8080/",
     "height": 318
    },
    "colab_type": "code",
    "id": "CImLyCGrRGr7",
    "outputId": "9ef765b9-13dd-4b7c-865e-e046cc30f6e3"
   },
   "outputs": [
    {
     "name": "stdout",
     "output_type": "stream",
     "text": [
      "Collecting sklearn_crfsuite\n",
      "  Downloading https://files.pythonhosted.org/packages/25/74/5b7befa513482e6dee1f3dd68171a6c9dfc14c0eaa00f885ffeba54fe9b0/sklearn_crfsuite-0.3.6-py2.py3-none-any.whl\n",
      "Requirement already satisfied: tabulate in /usr/local/lib/python3.6/dist-packages (from sklearn_crfsuite) (0.8.3)\n",
      "Requirement already satisfied: tqdm>=2.0 in /usr/local/lib/python3.6/dist-packages (from sklearn_crfsuite) (4.28.1)\n",
      "Requirement already satisfied: six in /usr/local/lib/python3.6/dist-packages (from sklearn_crfsuite) (1.11.0)\n",
      "Collecting python-crfsuite>=0.8.3 (from sklearn_crfsuite)\n",
      "\u001b[?25l  Downloading https://files.pythonhosted.org/packages/2f/86/cfcd71edca9d25d3d331209a20f6314b6f3f134c29478f90559cee9ce091/python_crfsuite-0.9.6-cp36-cp36m-manylinux1_x86_64.whl (754kB)\n",
      "\u001b[K    100% |████████████████████████████████| 757kB 14.7MB/s \n",
      "\u001b[?25hInstalling collected packages: python-crfsuite, sklearn-crfsuite\n",
      "Successfully installed python-crfsuite-0.9.6 sklearn-crfsuite-0.3.6\n"
     ]
    }
   ],
   "source": [
    "!pip3 install sklearn_crfsuite"
   ]
  },
  {
   "cell_type": "code",
   "execution_count": 0,
   "metadata": {
    "colab": {},
    "colab_type": "code",
    "id": "JUFYDNI7Or_J"
   },
   "outputs": [],
   "source": [
    "from itertools import chain\n",
    "\n",
    "import nltk\n",
    "import sklearn\n",
    "import scipy.stats\n",
    "from sklearn.metrics import make_scorer\n",
    "#from sklearn.cross_validation import cross_val_score\n",
    "#from sklearn.grid_search import RandomizedSearchCV\n",
    "\n",
    "import sklearn_crfsuite\n",
    "from sklearn_crfsuite import scorers\n",
    "from sklearn_crfsuite import metrics"
   ]
  },
  {
   "cell_type": "code",
   "execution_count": 0,
   "metadata": {
    "colab": {
     "base_uri": "https://localhost:8080/",
     "height": 51
    },
    "colab_type": "code",
    "id": "e9aSq0aYQ47g",
    "outputId": "6faac08e-a6ce-4e8b-d0bd-1aeef5d5246b"
   },
   "outputs": [
    {
     "name": "stdout",
     "output_type": "stream",
     "text": [
      "CPU times: user 34.3 s, sys: 79.5 ms, total: 34.4 s\n",
      "Wall time: 34.5 s\n"
     ]
    }
   ],
   "source": [
    "%%time\n",
    "crf = sklearn_crfsuite.CRF(\n",
    "    algorithm='lbfgs',\n",
    "    c1=0.1,\n",
    "    c2=0.1,\n",
    "    max_iterations=100,\n",
    "    all_possible_transitions=True\n",
    ")\n",
    "crf.fit(X_train, y_train)"
   ]
  },
  {
   "cell_type": "code",
   "execution_count": 0,
   "metadata": {
    "colab": {},
    "colab_type": "code",
    "id": "H1nGyJYORekF"
   },
   "outputs": [],
   "source": [
    "labels = list(crf.classes_)\n",
    "#labels.remove('O')\n",
    "#labels"
   ]
  },
  {
   "cell_type": "code",
   "execution_count": 0,
   "metadata": {
    "colab": {
     "base_uri": "https://localhost:8080/",
     "height": 34
    },
    "colab_type": "code",
    "id": "zXsstmFnRiZ0",
    "outputId": "c69590a5-8fa4-499e-a7c8-c193c057d314"
   },
   "outputs": [
    {
     "data": {
      "text/plain": [
       "0.9591408698962599"
      ]
     },
     "execution_count": 49,
     "metadata": {
      "tags": []
     },
     "output_type": "execute_result"
    }
   ],
   "source": [
    "y_pred = crf.predict(X_val)\n",
    "metrics.flat_f1_score(y_val, y_pred,\n",
    "                      average='weighted', labels=labels)"
   ]
  },
  {
   "cell_type": "code",
   "execution_count": 0,
   "metadata": {
    "colab": {
     "base_uri": "https://localhost:8080/",
     "height": 34
    },
    "colab_type": "code",
    "id": "Dal9jkbhSteY",
    "outputId": "20c5682e-51cb-4755-8b27-c8ee2ba494c3"
   },
   "outputs": [
    {
     "data": {
      "text/plain": [
       "(50246,)"
      ]
     },
     "execution_count": 52,
     "metadata": {
      "tags": []
     },
     "output_type": "execute_result"
    }
   ],
   "source": [
    "np.concatenate(y_pred)"
   ]
  },
  {
   "cell_type": "code",
   "execution_count": 0,
   "metadata": {
    "colab": {
     "base_uri": "https://localhost:8080/",
     "height": 34
    },
    "colab_type": "code",
    "id": "Pb_JkEVVSzKi",
    "outputId": "6ab50bff-00a9-414e-c53e-5bbc80850ad0"
   },
   "outputs": [
    {
     "data": {
      "text/plain": [
       "(50246,)"
      ]
     },
     "execution_count": 54,
     "metadata": {
      "tags": []
     },
     "output_type": "execute_result"
    }
   ],
   "source": [
    "np.concatenate(y_val).shape"
   ]
  },
  {
   "cell_type": "code",
   "execution_count": 0,
   "metadata": {
    "colab": {
     "base_uri": "https://localhost:8080/",
     "height": 34
    },
    "colab_type": "code",
    "id": "X_6GBLfzS5Li",
    "outputId": "01fc89ae-ce06-437f-c3c4-8f0051414549"
   },
   "outputs": [
    {
     "data": {
      "text/plain": [
       "56246"
      ]
     },
     "execution_count": 55,
     "metadata": {
      "tags": []
     },
     "output_type": "execute_result"
    }
   ],
   "source": [
    "len(token)"
   ]
  },
  {
   "cell_type": "code",
   "execution_count": 0,
   "metadata": {
    "colab": {},
    "colab_type": "code",
    "id": "RaS2_g8Uf_Km"
   },
   "outputs": [],
   "source": [
    "output_lines = []\n",
    "j = 0 \n",
    "y_pred = np.concatenate(y_pred)\n",
    "\n",
    "for i in range(len(token)):\n",
    "  if token[i] == '-DOCSTART-':\n",
    "    output_lines.append('-DOCSTART- X X O')\n",
    "  elif token[i] == '<START>':\n",
    "    output_lines.append('')\n",
    "  else:\n",
    "    txt = token[i] + \" \" + tag[i] + \" \" + y_pred[j]\n",
    "    j += 1\n",
    "    output_lines.append(txt)    "
   ]
  },
  {
   "cell_type": "code",
   "execution_count": 0,
   "metadata": {
    "colab": {
     "base_uri": "https://localhost:8080/",
     "height": 34
    },
    "colab_type": "code",
    "id": "MLBclw7-SlEu",
    "outputId": "6513ca86-6f98-44c8-9c87-700fa832eaa4"
   },
   "outputs": [
    {
     "data": {
      "text/plain": [
       "(56246, 56246)"
      ]
     },
     "execution_count": 61,
     "metadata": {
      "tags": []
     },
     "output_type": "execute_result"
    }
   ],
   "source": [
    "len(output_lines), len(lines)"
   ]
  },
  {
   "cell_type": "code",
   "execution_count": 0,
   "metadata": {
    "colab": {},
    "colab_type": "code",
    "id": "Vk8i0Lm6C-9e"
   },
   "outputs": [],
   "source": [
    "OUTPUT_FILE = \"drive/My Drive/NER/output_file.iob\"\n",
    "#OUTPUT_FILE = \"output_file.iob\"\n",
    "with open(OUTPUT_FILE,mode = 'w') as f: \n",
    "    f.write(\"\\n\".join(output_lines))"
   ]
  }
 ],
 "metadata": {
  "accelerator": "GPU",
  "colab": {
   "collapsed_sections": [],
   "name": "CRF_NER.ipynb",
   "provenance": [],
   "version": "0.3.2"
  },
  "kernelspec": {
   "display_name": "Python 3",
   "language": "python",
   "name": "python3"
  },
  "language_info": {
   "codemirror_mode": {
    "name": "ipython",
    "version": 3
   },
   "file_extension": ".py",
   "mimetype": "text/x-python",
   "name": "python",
   "nbconvert_exporter": "python",
   "pygments_lexer": "ipython3",
   "version": "3.6.5"
  }
 },
 "nbformat": 4,
 "nbformat_minor": 1
}
